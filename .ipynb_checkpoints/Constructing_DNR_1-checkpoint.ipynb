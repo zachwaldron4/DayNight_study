{
 "cells": [
  {
   "cell_type": "markdown",
   "metadata": {},
   "source": [
    "\n",
    "# Overall Steps:\n",
    "\n",
    "The section that this notebook details is in bold.\n",
    "\n",
    "1. Aquire satellite data (these codes are for GRACE and CHAMP, but modification should be simple)\n",
    "2. Construct a dataframe that contains all of the satellite epemeris data for the time period as the rows.\n",
    "    - This is done to make the act of looping (marginally) faster.  Opening and closing files is (sometimes) a slow task.\n",
    "    - These files are for 2002-2009\n",
    "3. **Use the dataframe constructed in Step 2 to sample the MSISe00 and MSISe2. The data is concatenated as additional columns on the full satellite dataframes.**\n",
    "    - The provided code uses Greg Lucas's pymsis module to sample both MSISe00 and MSISe2.\n",
    "    - save these sampled dataframes as new pickle files to be accessed.\n",
    "    - (if you run the data one year at a time, the dataframes will need to be combined)\n",
    "4. Loop through each day of the period of interest and construct a day-to-night ratio for each day. Save the averged data and day-to-night ratios in a separate dataframe pickle.\n",
    "    - This is done as a latitudinal average.  The code to do this is provided.\n",
    "    - Naming conventions can make this process difficult. \n",
    "5. Make plots to showcase your hardwork\n",
    "\n",
    "\n",
    "\n"
   ]
  },
  {
   "cell_type": "markdown",
   "metadata": {},
   "source": [
    "### This Notebook constructs the ``pyMSIS##_sat`` dataframe that contains the entire MSIS state for each location of the chosen satellite"
   ]
  },
  {
   "cell_type": "code",
   "execution_count": 7,
   "metadata": {},
   "outputs": [],
   "source": [
    "import pandas as pd\n",
    "import numpy as np \n",
    "import matplotlib.pyplot as plt\n",
    "from matplotlib import rc\n",
    "from collections import defaultdict\n",
    "from datetime import datetime,timedelta\n",
    "import pickle\n",
    "import os\n",
    "import matplotlib.pyplot as plt\n",
    "import numpy as np\n",
    "from pymsis import msis\n",
    "\n"
   ]
  },
  {
   "cell_type": "code",
   "execution_count": 8,
   "metadata": {},
   "outputs": [
    {
     "name": "stdout",
     "output_type": "stream",
     "text": [
      "Index(['Date', 'time_full', 'Version', 'Year', 'Doy', 'Hours', 'Lon', 'Lat',\n",
      "       'LatBin', 'Height', 'LocTim', 'Mlat', 'Mlon', 'Mlt', 'Density', 'D400',\n",
      "       'D410', 'Dmsis', 'U_rho', 'Num', 'NumThrust', 'Cd', 'Dmsis_sat',\n",
      "       'Dmsis500', 'D500', 'd_n_indicator', 'Ap_dayvals', 'f107a_dayvals',\n",
      "       'f107d_dayvals', 'p107_dayvals'],\n",
      "      dtype='object')\n",
      "Index(['Date', 'Year', 'Doy', 'Hours', 'Lon', 'Lat', 'LatBin', 'Height',\n",
      "       'LocTim', 'Density', 'D400', 'Dmsis_sat', 'Dmsis500', 'D500',\n",
      "       'Ap_dayvals', 'f107a_dayvals', 'f107d_dayvals', 'p107_dayvals'],\n",
      "      dtype='object')\n"
     ]
    }
   ],
   "source": [
    "year_choose = 2002\n",
    "sat_choose = 'champ'\n",
    "\n",
    "if sat_choose == 'champ':\n",
    "    df = pd.read_pickle('constructed_files/CHAMP400km_CombineOrbits.pkl') \n",
    "    print(df.columns)\n",
    "    del df['Mlat']\n",
    "    del df['Mlon']\n",
    "    del df['Mlt']\n",
    "    del df['U_rho']\n",
    "    del df['Num']\n",
    "    del df['NumInterp']\n",
    "    del df['D410']\n",
    "    del df['Cd']\n",
    "    del df['p107_dayvals']\n",
    "    print(df.columns)\n",
    "    \n",
    "    \n",
    "    \n",
    "\n",
    "# elif sat_choose == 'grace':\n",
    "#     df = pd.read_pickle('constructed_files/GRACE500km_CombineOrbits.pkl')\n",
    "#     print(df.columns)\n",
    "#     del df['Mlat']\n",
    "#     del df['Mlon']\n",
    "#     del df['Mlt']\n",
    "#     del df['U_rho']\n",
    "#     del df['Num']\n",
    "#     del df['NumThrust']\n",
    "#     del df['D410']\n",
    "#     del df['time_full']\n",
    "#     del df['Version']\n",
    "#     del df['Dmsis']\n",
    "#     del df['Cd']\n",
    "#     del df['d_n_indicator']\n",
    "#     print(df.columns)\n"
   ]
  },
  {
   "cell_type": "markdown",
   "metadata": {},
   "source": [
    "# Construct MSIS files:\n",
    "#### a) You can call the function directly for a single year:"
   ]
  },
  {
   "cell_type": "code",
   "execution_count": 9,
   "metadata": {
    "scrolled": true
   },
   "outputs": [],
   "source": [
    "# import sys  \n",
    "# sys.path.insert(0, 'util_funcs/')\n",
    "# from sample_msis00_msis2 import save_bothmsis_sat_df\n",
    "\n",
    "# save_bothmsis_sat_df(df, year_choose, sat_choose)"
   ]
  },
  {
   "cell_type": "markdown",
   "metadata": {},
   "source": [
    "#### b) or run as a multiprocess so that all years are run at the same time:"
   ]
  },
  {
   "cell_type": "code",
   "execution_count": 10,
   "metadata": {},
   "outputs": [],
   "source": [
    "# from multiprocessing import set_start_method\n",
    "# set_start_method(\"spawn\")\n",
    "\n",
    "# import sys  \n",
    "# sys.path.insert(0, 'util_funcs/')\n",
    "# from sample_msis00_msis2 import save_bothmsis_sat_df\n",
    "\n",
    "# import multiprocessing\n",
    "# multiprocessing.cpu_count()* 2\n",
    "# pool_size = (multiprocessing.cpu_count() + 2  ) \n",
    "# pool = multiprocessing.Pool(processes=pool_size)\n",
    "# # subprocess.call('ls')\n",
    "\n",
    "\n",
    "# ins = [(df, 2002, sat_choose),\n",
    "#        (df, 2003, sat_choose),\n",
    "#        (df, 2004, sat_choose),\n",
    "#        (df, 2005, sat_choose),\n",
    "#        (df, 2006, sat_choose),\n",
    "#        (df, 2007, sat_choose),\n",
    "#        (df, 2008, sat_choose),\n",
    "#        (df, 2009, sat_choose),\n",
    "#       ]\n",
    "\n",
    "# pool.starmap(save_bothmsis_sat_df, ins)\n",
    "\n"
   ]
  },
  {
   "cell_type": "markdown",
   "metadata": {},
   "source": [
    "## Combine the yearly MSIS files into 1 dataframe that contains all years and remove the extra zeros"
   ]
  },
  {
   "cell_type": "code",
   "execution_count": 11,
   "metadata": {},
   "outputs": [
    {
     "name": "stdout",
     "output_type": "stream",
     "text": [
      "done with building dict msis00\n",
      "done with saving pickle msis00\n",
      "done with building dict msis2\n",
      "done with saving pickle msis2\n"
     ]
    }
   ],
   "source": [
    "# File list based on the naming conventions:\n",
    "files_msis2 = ['parallelize/2002msis2make'+ sat_choose,\n",
    "              'parallelize/2003msis2make'+ sat_choose,\n",
    "              'parallelize/2004msis2make'+ sat_choose,\n",
    "              'parallelize/2005msis2make'+ sat_choose,\n",
    "              'parallelize/2006msis2make'+ sat_choose,\n",
    "              'parallelize/2007msis2make'+ sat_choose,\n",
    "              'parallelize/2008msis2make'+ sat_choose,\n",
    "              'parallelize/2009msis2make'+ sat_choose,\n",
    "             ]\n",
    "\n",
    "files_msis00 = ['parallelize/2002msis00make'+ sat_choose,\n",
    "              'parallelize/2003msis00make'+ sat_choose,\n",
    "              'parallelize/2004msis00make'+ sat_choose,\n",
    "              'parallelize/2005msis00make'+ sat_choose,\n",
    "              'parallelize/2006msis00make'+ sat_choose,\n",
    "              'parallelize/2007msis00make'+ sat_choose,\n",
    "              'parallelize/2008msis00make'+ sat_choose,\n",
    "              'parallelize/2009msis00make'+ sat_choose,\n",
    "             ]\n",
    "\n",
    "# Remove the padded zeros from each of the files and concatenate them into a single dataframe\n",
    "df_dict = {}\n",
    "\n",
    "for i, val in enumerate(files_msis00):\n",
    "    df_loop = pd.read_pickle(val)    \n",
    "    df_dict[i] = df_loop #df_loop.loc[(df_loop!=0).all(axis=1)]\n",
    "\n",
    "print('done with building dict msis00')\n",
    "\n",
    "# Concatenate the yearly files into one, easy-to-manage file.\n",
    "frame = [df_dict[0], df_dict[1], df_dict[2], df_dict[3], df_dict[4], df_dict[5], df_dict[6], df_dict[7] ] \n",
    "df_combined = pd.concat(frame)\n",
    "df_combined.to_pickle('constructed_files/pyMSIS00_'+ sat_choose)\n",
    "\n",
    "print('done with saving pickle msis00')\n",
    "\n",
    "for i, val in enumerate(files_msis2):\n",
    "    df_loop = pd.read_pickle(val)    \n",
    "    df_dict[i] = df_loop #df_loop.loc[(df_loop!=0).all(axis=1)]\n",
    "\n",
    "print('done with building dict msis2')\n",
    "\n",
    "# Concatenate the yearly files into one, easy-to-manage file.\n",
    "frame = [df_dict[0], df_dict[1], df_dict[2], df_dict[3], df_dict[4], df_dict[5], df_dict[6], df_dict[7] ] \n",
    "df_combined = pd.concat(frame)\n",
    "df_combined.to_pickle('constructed_files/pyMSIS2_'+ sat_choose)\n",
    "\n",
    "print('done with saving pickle msis2')"
   ]
  },
  {
   "cell_type": "code",
   "execution_count": 12,
   "metadata": {},
   "outputs": [],
   "source": [
    "%reset -f"
   ]
  },
  {
   "cell_type": "code",
   "execution_count": null,
   "metadata": {},
   "outputs": [],
   "source": []
  },
  {
   "cell_type": "code",
   "execution_count": null,
   "metadata": {},
   "outputs": [],
   "source": []
  },
  {
   "cell_type": "code",
   "execution_count": null,
   "metadata": {},
   "outputs": [],
   "source": []
  },
  {
   "cell_type": "code",
   "execution_count": null,
   "metadata": {},
   "outputs": [],
   "source": []
  },
  {
   "cell_type": "code",
   "execution_count": null,
   "metadata": {},
   "outputs": [],
   "source": []
  },
  {
   "cell_type": "code",
   "execution_count": null,
   "metadata": {},
   "outputs": [],
   "source": []
  },
  {
   "cell_type": "code",
   "execution_count": null,
   "metadata": {},
   "outputs": [],
   "source": []
  },
  {
   "cell_type": "code",
   "execution_count": null,
   "metadata": {},
   "outputs": [],
   "source": []
  },
  {
   "cell_type": "code",
   "execution_count": null,
   "metadata": {},
   "outputs": [],
   "source": []
  },
  {
   "cell_type": "code",
   "execution_count": null,
   "metadata": {},
   "outputs": [],
   "source": []
  },
  {
   "cell_type": "code",
   "execution_count": null,
   "metadata": {
    "scrolled": true
   },
   "outputs": [],
   "source": []
  }
 ],
 "metadata": {
  "kernelspec": {
   "display_name": "Python 3",
   "language": "python",
   "name": "python3"
  },
  "language_info": {
   "codemirror_mode": {
    "name": "ipython",
    "version": 3
   },
   "file_extension": ".py",
   "mimetype": "text/x-python",
   "name": "python",
   "nbconvert_exporter": "python",
   "pygments_lexer": "ipython3",
   "version": "3.7.4"
  }
 },
 "nbformat": 4,
 "nbformat_minor": 4
}
