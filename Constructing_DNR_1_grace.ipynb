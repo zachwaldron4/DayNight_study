{
 "cells": [
  {
   "cell_type": "markdown",
   "metadata": {},
   "source": [
    "# Notes:\n",
    "\n",
    "This notebook uses the GRACE data supplied by Eric Sutton to construct the ``pyMSIS##_grace`` dataframe."
   ]
  },
  {
   "cell_type": "code",
   "execution_count": 1,
   "metadata": {},
   "outputs": [],
   "source": [
    "import numpy as np\n",
    "import pandas as pd\n",
    "from pymsis import msis\n",
    "import time\n",
    "import os\n",
    "import sys  \n",
    "from scipy.io import loadmat  #allows us to read in .mat files\n",
    "from datetime import datetime,timedelta\n",
    "import warnings\n",
    "warnings.filterwarnings(\"ignore\")\n"
   ]
  },
  {
   "cell_type": "code",
   "execution_count": 2,
   "metadata": {},
   "outputs": [],
   "source": [
    "\n",
    "# YEARS = [2003] #,2003,2004,2005,2006,2007,2008,2009]\n",
    "# DAYS = np.arange(1,5)\n",
    "path_grace = '../data/day_night_data/GRACE_2002_2012/'\n",
    "noaa_file = pd.read_pickle('constructed_files/noaa_2002_2010_pickle' )\n",
    "\n"
   ]
  },
  {
   "cell_type": "markdown",
   "metadata": {},
   "source": [
    "# Construct MSIS files:\n",
    "#### a) You can call the function directly for a single year:"
   ]
  },
  {
   "cell_type": "code",
   "execution_count": 3,
   "metadata": {},
   "outputs": [],
   "source": [
    "# import sys  \n",
    "# sys.path.insert(0, 'util_funcs/')\n",
    "# from GRACE_sample_pymsis import make_grace_pymsis_dfs\n",
    "\n",
    "# make_grace_pymsis_dfs([2002], np.arange(1,367), path_grace, noaa_file)\n",
    "    "
   ]
  },
  {
   "cell_type": "markdown",
   "metadata": {},
   "source": [
    "#### b) or run as a multiprocess so that all years are run at the same time:"
   ]
  },
  {
   "cell_type": "code",
   "execution_count": 4,
   "metadata": {},
   "outputs": [
    {
     "data": {
      "text/plain": [
       "[None, None, None, None, None, None, None, None]"
      ]
     },
     "execution_count": 4,
     "metadata": {},
     "output_type": "execute_result"
    }
   ],
   "source": [
    "# from multiprocessing import set_start_method\n",
    "# set_start_method(\"spawn\")\n",
    "\n",
    "# import sys  \n",
    "# sys.path.insert(0, 'util_funcs/')\n",
    "# from GRACE_sample_pymsis import make_grace_pymsis_dfs\n",
    "\n",
    "# import multiprocessing\n",
    "# multiprocessing.cpu_count()* 2\n",
    "# pool_size = (multiprocessing.cpu_count() + 2  ) \n",
    "# pool = multiprocessing.Pool(processes=pool_size)\n",
    "# # subprocess.call('ls')\n",
    "\n",
    "\n",
    "# ins = [([2002], np.arange(1,367), path_grace, noaa_file),\n",
    "#        ([2003], np.arange(1,367), path_grace, noaa_file),\n",
    "#        ([2004], np.arange(1,367), path_grace, noaa_file),\n",
    "#        ([2005], np.arange(1,367), path_grace, noaa_file),\n",
    "#        ([2006], np.arange(1,367), path_grace, noaa_file),\n",
    "#        ([2007], np.arange(1,367), path_grace, noaa_file),\n",
    "#        ([2008], np.arange(1,367), path_grace, noaa_file),\n",
    "#        ([2009], np.arange(1,367), path_grace, noaa_file)\n",
    "#       ]\n",
    "\n",
    "# pool.starmap(make_grace_pymsis_dfs, ins)\n",
    "\n"
   ]
  },
  {
   "cell_type": "markdown",
   "metadata": {},
   "source": [
    "## Combine the yearly MSIS files into 1 dataframe that contains all years and remove the extra zeros"
   ]
  },
  {
   "cell_type": "code",
   "execution_count": 8,
   "metadata": {},
   "outputs": [
    {
     "name": "stdout",
     "output_type": "stream",
     "text": [
      "done with building dict msis00\n",
      "done with saving pickle msis00\n",
      "done with building dict msis2\n",
      "done with saving pickle msis2\n"
     ]
    }
   ],
   "source": [
    "sat_choose = 'grace'\n",
    "\n",
    "# File list based on the naming conventions:\n",
    "files_msis2 = ['parallelize/2002msis2make'+ sat_choose,\n",
    "              'parallelize/2003msis2make'+ sat_choose,\n",
    "              'parallelize/2004msis2make'+ sat_choose,\n",
    "              'parallelize/2005msis2make'+ sat_choose,\n",
    "              'parallelize/2006msis2make'+ sat_choose,\n",
    "              'parallelize/2007msis2make'+ sat_choose,\n",
    "              'parallelize/2008msis2make'+ sat_choose,\n",
    "              'parallelize/2009msis2make'+ sat_choose,\n",
    "             ]\n",
    "\n",
    "files_msis00 = ['parallelize/2002msis00make'+ sat_choose,\n",
    "              'parallelize/2003msis00make'+ sat_choose,\n",
    "              'parallelize/2004msis00make'+ sat_choose,\n",
    "              'parallelize/2005msis00make'+ sat_choose,\n",
    "              'parallelize/2006msis00make'+ sat_choose,\n",
    "              'parallelize/2007msis00make'+ sat_choose,\n",
    "              'parallelize/2008msis00make'+ sat_choose,\n",
    "              'parallelize/2009msis00make'+ sat_choose,\n",
    "             ]\n",
    "\n",
    "# Remove the padded zeros from each of the files and concatenate them into a single dataframe\n",
    "df_dict = {}\n",
    "\n",
    "for i, val in enumerate(files_msis00):\n",
    "    df_loop = pd.read_pickle(val)    \n",
    "    df_dict[i] = df_loop #df_loop.loc[(df_loop!=0).all(axis=1)]\n",
    "\n",
    "print('done with building dict msis00')\n",
    "\n",
    "# Concatenate the yearly files into one, easy-to-manage file.\n",
    "frame = [df_dict[0], df_dict[1], df_dict[2], df_dict[3], df_dict[4], df_dict[5], df_dict[6], df_dict[7] ] \n",
    "df_combined = pd.concat(frame)\n",
    "df_combined.to_pickle('constructed_files/pyMSIS00_'+ sat_choose)\n",
    "\n",
    "print('done with saving pickle msis00')\n",
    "\n",
    "for i, val in enumerate(files_msis2):\n",
    "    df_loop = pd.read_pickle(val)    \n",
    "    df_dict[i] = df_loop #df_loop.loc[(df_loop!=0).all(axis=1)]\n",
    "\n",
    "print('done with building dict msis2')\n",
    "\n",
    "# Concatenate the yearly files into one, easy-to-manage file.\n",
    "frame = [df_dict[0], df_dict[1], df_dict[2], df_dict[3], df_dict[4], df_dict[5], df_dict[6], df_dict[7] ] \n",
    "df_combined = pd.concat(frame)\n",
    "df_combined.to_pickle('constructed_files/pyMSIS2_'+ sat_choose)\n",
    "\n",
    "print('done with saving pickle msis2')"
   ]
  },
  {
   "cell_type": "code",
   "execution_count": 6,
   "metadata": {},
   "outputs": [],
   "source": [
    "# msis00_df\n",
    "# msis2_df"
   ]
  },
  {
   "cell_type": "code",
   "execution_count": 7,
   "metadata": {},
   "outputs": [],
   "source": [
    "# msis00_df = df00[pd.notna(df00).any(axis=1)]\n",
    "# msis2_df = df2[pd.notna(df2).any(axis=1)]\n",
    "# msis00_df['Date'] = date\n",
    "# msis2_df['Date'] = date\n",
    "# print('Done')\n"
   ]
  },
  {
   "cell_type": "code",
   "execution_count": null,
   "metadata": {},
   "outputs": [],
   "source": []
  }
 ],
 "metadata": {
  "kernelspec": {
   "display_name": "Python 3",
   "language": "python",
   "name": "python3"
  },
  "language_info": {
   "codemirror_mode": {
    "name": "ipython",
    "version": 3
   },
   "file_extension": ".py",
   "mimetype": "text/x-python",
   "name": "python",
   "nbconvert_exporter": "python",
   "pygments_lexer": "ipython3",
   "version": "3.7.4"
  }
 },
 "nbformat": 4,
 "nbformat_minor": 2
}
