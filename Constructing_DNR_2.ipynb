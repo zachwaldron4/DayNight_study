{
 "cells": [
  {
   "cell_type": "markdown",
   "metadata": {},
   "source": [
    "# Overall Steps:\n",
    "\n",
    "The section that this notebook details is in bold.\n",
    "\n",
    "1. Aquire satellite data (these codes are for GRACE and CHAMP, but modification should be simple)\n",
    "2. Construct a dataframe that contains all of the satellite epemeris data for the time period as the rows.\n",
    "    - This is done to make the act of looping (marginally) faster.  Opening and closing files is (sometimes) a slow task.\n",
    "    - These files are for 2002-2009\n",
    "3. Use the dataframe constructed in Step 2 to sample the MSISe00 and MSISe2. The data is concatenated as additional columns on the full satellite dataframes.\n",
    "    - The provided code uses Greg Lucas's pymsis module to sample both MSISe00 and MSISe2.\n",
    "    - save these sampled dataframes as new pickle files to be accessed.\n",
    "    - (if you run the data one year at a time, the dataframes will need to be combined)\n",
    "4. **Loop through each day of the period of interest and construct a day-to-night ratio for each day. Save the averged data and day-to-night ratios in a separate dataframe pickle.**\n",
    "    - This is done as a latitudinal average.  The code to do this is provided.\n",
    "    - Naming conventions can make this process difficult. \n",
    "5. Make plots to showcase your hardwork\n",
    "\n",
    "\n",
    "\n"
   ]
  },
  {
   "cell_type": "markdown",
   "metadata": {},
   "source": [
    "# This is the file that actually constructs the Day-to-Night Ratio"
   ]
  },
  {
   "cell_type": "code",
   "execution_count": 1,
   "metadata": {},
   "outputs": [],
   "source": [
    "import pandas as pd\n",
    "import numpy as np \n",
    "import sys  \n",
    "# import matplotlib.pyplot as plt\n",
    "# from matplotlib import rc\n",
    "from collections import defaultdict\n",
    "from datetime import datetime,timedelta\n",
    "import pickle\n",
    "import os\n",
    "\n"
   ]
  },
  {
   "cell_type": "markdown",
   "metadata": {},
   "source": [
    "#### Can run as an single run"
   ]
  },
  {
   "cell_type": "code",
   "execution_count": 2,
   "metadata": {},
   "outputs": [],
   "source": [
    "\n",
    "# import pandas as pd\n",
    "# import numpy as np \n",
    "# import sys  \n",
    "# # import matplotlib.pyplot as plt\n",
    "# # from matplotlib import rc\n",
    "# from collections import defaultdict\n",
    "# from datetime import datetime,timedelta\n",
    "# import pickle\n",
    "# import os\n",
    "\n",
    "# ##############################################################\n",
    "# # FUNCTION INPUT PARAMETERS:\n",
    "# ##############################################################\n",
    "# years = [2002]#,2003,2004,2005,2006,2007,2008,2009]\n",
    "# days = np.arange(1,10)\n",
    "# SAT_CHOOSE = 'champ'\n",
    "# path = 'constructed_files/'\n",
    "# file_loc = ''\n",
    "# which_msis = '2'\n",
    "\n",
    "\n",
    "# import sys  \n",
    "# sys.path.insert(0, 'util_funcs/')\n",
    "# from Day_Night_Ratios_pymsis import LatAverage_DayNightRatios_pymsis\n",
    "\n",
    "# LatAverage_DayNightRatios_pymsis(years, \n",
    "#                                  days, \n",
    "#                                  SAT_CHOOSE,\n",
    "#                                  which_msis,\n",
    "#                                  path, \n",
    "#                                  file_loc, \n",
    "#                                  )\n",
    "\n",
    "\n"
   ]
  },
  {
   "cell_type": "markdown",
   "metadata": {},
   "source": [
    "# Run as multiprocess:"
   ]
  },
  {
   "cell_type": "code",
   "execution_count": 3,
   "metadata": {},
   "outputs": [
    {
     "data": {
      "text/plain": [
       "[None, None]"
      ]
     },
     "execution_count": 3,
     "metadata": {},
     "output_type": "execute_result"
    }
   ],
   "source": [
    "from multiprocessing import set_start_method\n",
    "set_start_method(\"spawn\")\n",
    "\n",
    "import sys  \n",
    "sys.path.insert(0, 'util_funcs/')\n",
    "from Day_Night_Ratios_pymsis import LatAverage_DayNightRatios_pymsis\n",
    "\n",
    "import multiprocessing\n",
    "multiprocessing.cpu_count()* 2\n",
    "pool_size = (multiprocessing.cpu_count() + 2  ) \n",
    "pool = multiprocessing.Pool(processes=pool_size)\n",
    "\n",
    "\n",
    "##############################################################\n",
    "# FUNCTION INPUT PARAMETERS:\n",
    "##############################################################\n",
    "years = [2002,2003,2004,2005,2006,2007,2008,2009]\n",
    "days = np.arange(1,366)\n",
    "path = 'constructed_files/'\n",
    "file_loc = ''\n",
    "\n",
    "\n",
    "ins = [(years, days, 'grace', '2', path, file_loc),\n",
    "       (years, days, 'grace', '00', path, file_loc),\n",
    "       ]\n",
    "\n",
    "pool.starmap(LatAverage_DayNightRatios_pymsis, ins)\n",
    "\n"
   ]
  },
  {
   "cell_type": "code",
   "execution_count": null,
   "metadata": {},
   "outputs": [],
   "source": []
  },
  {
   "cell_type": "code",
   "execution_count": null,
   "metadata": {},
   "outputs": [],
   "source": []
  }
 ],
 "metadata": {
  "kernelspec": {
   "display_name": "Python 3",
   "language": "python",
   "name": "python3"
  },
  "language_info": {
   "codemirror_mode": {
    "name": "ipython",
    "version": 3
   },
   "file_extension": ".py",
   "mimetype": "text/x-python",
   "name": "python",
   "nbconvert_exporter": "python",
   "pygments_lexer": "ipython3",
   "version": "3.7.4"
  }
 },
 "nbformat": 4,
 "nbformat_minor": 2
}
